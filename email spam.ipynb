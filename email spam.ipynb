{
 "cells": [
  {
   "cell_type": "markdown",
   "id": "08b8bdc1",
   "metadata": {},
   "source": [
    "# email spam/ham\n",
    "\n"
   ]
  },
  {
   "cell_type": "code",
   "execution_count": 3,
   "id": "7aaddc54",
   "metadata": {},
   "outputs": [],
   "source": [
    "## libraries \n",
    "import numpy as np \n",
    "import pandas as pd \n",
    "from sklearn.model_selection import train_test_split\n",
    "from sklearn.feature_extraction.text import TfidfVectorizer\n",
    "from sklearn.linear_model import LogisticRegression \n",
    "from sklearn.metrics import accuracy_score\n"
   ]
  },
  {
   "cell_type": "code",
   "execution_count": 4,
   "id": "0614d624",
   "metadata": {},
   "outputs": [],
   "source": [
    "raw_mail_data = pd.read_csv(\"mail_data_spam.csv\")"
   ]
  },
  {
   "cell_type": "code",
   "execution_count": 5,
   "id": "f1822831",
   "metadata": {},
   "outputs": [
    {
     "name": "stdout",
     "output_type": "stream",
     "text": [
      "     Category                                            Message\n",
      "0         ham  Go until jurong point, crazy.. Available only ...\n",
      "1         ham                      Ok lar... Joking wif u oni...\n",
      "2        spam  Free entry in 2 a wkly comp to win FA Cup fina...\n",
      "3         ham  U dun say so early hor... U c already then say...\n",
      "4         ham  Nah I don't think he goes to usf, he lives aro...\n",
      "...       ...                                                ...\n",
      "5567     spam  This is the 2nd time we have tried 2 contact u...\n",
      "5568      ham               Will ü b going to esplanade fr home?\n",
      "5569      ham  Pity, * was in mood for that. So...any other s...\n",
      "5570      ham  The guy did some bitching but I acted like i'd...\n",
      "5571      ham                         Rofl. Its true to its name\n",
      "\n",
      "[5572 rows x 2 columns]\n"
     ]
    }
   ],
   "source": [
    "print(raw_mail_data)"
   ]
  },
  {
   "cell_type": "code",
   "execution_count": 7,
   "id": "fe57773d",
   "metadata": {},
   "outputs": [],
   "source": [
    "##replacing null values to string \n",
    "mail_data = raw_mail_data.where((pd.notnull(raw_mail_data)),'')"
   ]
  },
  {
   "cell_type": "code",
   "execution_count": 8,
   "id": "0448f91b",
   "metadata": {},
   "outputs": [
    {
     "data": {
      "text/plain": [
       "(5572, 2)"
      ]
     },
     "execution_count": 8,
     "metadata": {},
     "output_type": "execute_result"
    }
   ],
   "source": [
    "raw_mail_data.shape"
   ]
  },
  {
   "cell_type": "code",
   "execution_count": 9,
   "id": "6be09547",
   "metadata": {},
   "outputs": [
    {
     "data": {
      "text/plain": [
       "Category    0\n",
       "Message     0\n",
       "dtype: int64"
      ]
     },
     "execution_count": 9,
     "metadata": {},
     "output_type": "execute_result"
    }
   ],
   "source": [
    "raw_mail_data.isnull().sum()"
   ]
  },
  {
   "cell_type": "code",
   "execution_count": 10,
   "id": "4f67927b",
   "metadata": {},
   "outputs": [
    {
     "data": {
      "text/html": [
       "<div>\n",
       "<style scoped>\n",
       "    .dataframe tbody tr th:only-of-type {\n",
       "        vertical-align: middle;\n",
       "    }\n",
       "\n",
       "    .dataframe tbody tr th {\n",
       "        vertical-align: top;\n",
       "    }\n",
       "\n",
       "    .dataframe thead th {\n",
       "        text-align: right;\n",
       "    }\n",
       "</style>\n",
       "<table border=\"1\" class=\"dataframe\">\n",
       "  <thead>\n",
       "    <tr style=\"text-align: right;\">\n",
       "      <th></th>\n",
       "      <th>Category</th>\n",
       "      <th>Message</th>\n",
       "    </tr>\n",
       "  </thead>\n",
       "  <tbody>\n",
       "    <tr>\n",
       "      <th>0</th>\n",
       "      <td>ham</td>\n",
       "      <td>Go until jurong point, crazy.. Available only ...</td>\n",
       "    </tr>\n",
       "    <tr>\n",
       "      <th>1</th>\n",
       "      <td>ham</td>\n",
       "      <td>Ok lar... Joking wif u oni...</td>\n",
       "    </tr>\n",
       "    <tr>\n",
       "      <th>2</th>\n",
       "      <td>spam</td>\n",
       "      <td>Free entry in 2 a wkly comp to win FA Cup fina...</td>\n",
       "    </tr>\n",
       "    <tr>\n",
       "      <th>3</th>\n",
       "      <td>ham</td>\n",
       "      <td>U dun say so early hor... U c already then say...</td>\n",
       "    </tr>\n",
       "    <tr>\n",
       "      <th>4</th>\n",
       "      <td>ham</td>\n",
       "      <td>Nah I don't think he goes to usf, he lives aro...</td>\n",
       "    </tr>\n",
       "  </tbody>\n",
       "</table>\n",
       "</div>"
      ],
      "text/plain": [
       "  Category                                            Message\n",
       "0      ham  Go until jurong point, crazy.. Available only ...\n",
       "1      ham                      Ok lar... Joking wif u oni...\n",
       "2     spam  Free entry in 2 a wkly comp to win FA Cup fina...\n",
       "3      ham  U dun say so early hor... U c already then say...\n",
       "4      ham  Nah I don't think he goes to usf, he lives aro..."
      ]
     },
     "execution_count": 10,
     "metadata": {},
     "output_type": "execute_result"
    }
   ],
   "source": [
    "raw_mail_data.head()"
   ]
  },
  {
   "cell_type": "code",
   "execution_count": 11,
   "id": "59421d2d",
   "metadata": {},
   "outputs": [
    {
     "data": {
      "text/html": [
       "<div>\n",
       "<style scoped>\n",
       "    .dataframe tbody tr th:only-of-type {\n",
       "        vertical-align: middle;\n",
       "    }\n",
       "\n",
       "    .dataframe tbody tr th {\n",
       "        vertical-align: top;\n",
       "    }\n",
       "\n",
       "    .dataframe thead th {\n",
       "        text-align: right;\n",
       "    }\n",
       "</style>\n",
       "<table border=\"1\" class=\"dataframe\">\n",
       "  <thead>\n",
       "    <tr style=\"text-align: right;\">\n",
       "      <th></th>\n",
       "      <th>Category</th>\n",
       "      <th>Message</th>\n",
       "    </tr>\n",
       "  </thead>\n",
       "  <tbody>\n",
       "    <tr>\n",
       "      <th>5567</th>\n",
       "      <td>spam</td>\n",
       "      <td>This is the 2nd time we have tried 2 contact u...</td>\n",
       "    </tr>\n",
       "    <tr>\n",
       "      <th>5568</th>\n",
       "      <td>ham</td>\n",
       "      <td>Will ü b going to esplanade fr home?</td>\n",
       "    </tr>\n",
       "    <tr>\n",
       "      <th>5569</th>\n",
       "      <td>ham</td>\n",
       "      <td>Pity, * was in mood for that. So...any other s...</td>\n",
       "    </tr>\n",
       "    <tr>\n",
       "      <th>5570</th>\n",
       "      <td>ham</td>\n",
       "      <td>The guy did some bitching but I acted like i'd...</td>\n",
       "    </tr>\n",
       "    <tr>\n",
       "      <th>5571</th>\n",
       "      <td>ham</td>\n",
       "      <td>Rofl. Its true to its name</td>\n",
       "    </tr>\n",
       "  </tbody>\n",
       "</table>\n",
       "</div>"
      ],
      "text/plain": [
       "     Category                                            Message\n",
       "5567     spam  This is the 2nd time we have tried 2 contact u...\n",
       "5568      ham               Will ü b going to esplanade fr home?\n",
       "5569      ham  Pity, * was in mood for that. So...any other s...\n",
       "5570      ham  The guy did some bitching but I acted like i'd...\n",
       "5571      ham                         Rofl. Its true to its name"
      ]
     },
     "execution_count": 11,
     "metadata": {},
     "output_type": "execute_result"
    }
   ],
   "source": [
    "raw_mail_data.tail()"
   ]
  },
  {
   "cell_type": "code",
   "execution_count": 12,
   "id": "f4c011de",
   "metadata": {},
   "outputs": [],
   "source": [
    "##label encoding \n",
    "## label spam as 0 ; &; ham as 1\n",
    "## loc is used for boolean array \n",
    "mail_data.loc[mail_data['Category']== 'spam','Category',]=0"
   ]
  },
  {
   "cell_type": "code",
   "execution_count": 13,
   "id": "f8439440",
   "metadata": {},
   "outputs": [],
   "source": [
    " mail_data.loc[mail_data['Category']== 'ham','Category',]=1"
   ]
  },
  {
   "cell_type": "markdown",
   "id": "5f1a1a16",
   "metadata": {},
   "source": [
    "## spam - 0\n",
    "## ham - 1"
   ]
  },
  {
   "cell_type": "code",
   "execution_count": 14,
   "id": "7928e68e",
   "metadata": {},
   "outputs": [],
   "source": [
    "## input col == messgaes \n",
    "## output col == category \n",
    "## seperating the data as text and label"
   ]
  },
  {
   "cell_type": "code",
   "execution_count": 15,
   "id": "84fb28a9",
   "metadata": {},
   "outputs": [],
   "source": [
    "x=mail_data['Message']\n",
    "y=mail_data['Category']\n"
   ]
  },
  {
   "cell_type": "code",
   "execution_count": 16,
   "id": "8ce77303",
   "metadata": {},
   "outputs": [
    {
     "name": "stdout",
     "output_type": "stream",
     "text": [
      "0       Go until jurong point, crazy.. Available only ...\n",
      "1                           Ok lar... Joking wif u oni...\n",
      "2       Free entry in 2 a wkly comp to win FA Cup fina...\n",
      "3       U dun say so early hor... U c already then say...\n",
      "4       Nah I don't think he goes to usf, he lives aro...\n",
      "                              ...                        \n",
      "5567    This is the 2nd time we have tried 2 contact u...\n",
      "5568                 Will ü b going to esplanade fr home?\n",
      "5569    Pity, * was in mood for that. So...any other s...\n",
      "5570    The guy did some bitching but I acted like i'd...\n",
      "5571                           Rofl. Its true to its name\n",
      "Name: Message, Length: 5572, dtype: object\n"
     ]
    }
   ],
   "source": [
    "print(x)"
   ]
  },
  {
   "cell_type": "code",
   "execution_count": 17,
   "id": "9317d751",
   "metadata": {},
   "outputs": [
    {
     "name": "stdout",
     "output_type": "stream",
     "text": [
      "0       1\n",
      "1       1\n",
      "2       0\n",
      "3       1\n",
      "4       1\n",
      "       ..\n",
      "5567    0\n",
      "5568    1\n",
      "5569    1\n",
      "5570    1\n",
      "5571    1\n",
      "Name: Category, Length: 5572, dtype: object\n"
     ]
    }
   ],
   "source": [
    "print(y)"
   ]
  },
  {
   "cell_type": "code",
   "execution_count": 18,
   "id": "c562a98d",
   "metadata": {},
   "outputs": [],
   "source": [
    "x_train,x_test,y_train,y_test = train_test_split(x,y,test_size=0.2,random_state = 3)"
   ]
  },
  {
   "cell_type": "code",
   "execution_count": 19,
   "id": "e38a8101",
   "metadata": {},
   "outputs": [
    {
     "name": "stdout",
     "output_type": "stream",
     "text": [
      "(5572,)\n",
      "(4457,)\n",
      "(1115,)\n"
     ]
    }
   ],
   "source": [
    "print(x.shape)\n",
    "print(x_train.shape)\n",
    "print(x_test.shape)"
   ]
  },
  {
   "cell_type": "code",
   "execution_count": 20,
   "id": "449d1714",
   "metadata": {},
   "outputs": [
    {
     "name": "stdout",
     "output_type": "stream",
     "text": [
      "(5572,)\n",
      "(4457,)\n",
      "(1115,)\n"
     ]
    }
   ],
   "source": [
    "print(y.shape)\n",
    "print(y_train.shape)\n",
    "print(y_test.shape)"
   ]
  },
  {
   "cell_type": "code",
   "execution_count": 21,
   "id": "138c33f9",
   "metadata": {},
   "outputs": [],
   "source": [
    "## transform the text data to feature vectors that can be transformed as input to the logistic regression \n",
    "feature_extraction = TfidfVectorizer(min_df =1 , stop_words='english', lowercase='True')"
   ]
  },
  {
   "cell_type": "code",
   "execution_count": 22,
   "id": "9cf6cd4b",
   "metadata": {},
   "outputs": [],
   "source": [
    "x_train_features= feature_extraction.fit_transform(x_train)"
   ]
  },
  {
   "cell_type": "code",
   "execution_count": 23,
   "id": "917aee47",
   "metadata": {},
   "outputs": [],
   "source": [
    "x_test_features = feature_extraction.transform(x_test)"
   ]
  },
  {
   "cell_type": "code",
   "execution_count": 24,
   "id": "16d73cfe",
   "metadata": {},
   "outputs": [],
   "source": [
    "# convert Y_train and Y_test values as integers\n",
    "\n",
    "y_train = y_train.astype('int')\n",
    "y_test = y_test.astype('int')\n"
   ]
  },
  {
   "cell_type": "code",
   "execution_count": 25,
   "id": "daaddb30",
   "metadata": {},
   "outputs": [
    {
     "name": "stdout",
     "output_type": "stream",
     "text": [
      "  (0, 5413)\t0.6198254967574347\n",
      "  (0, 4456)\t0.4168658090846482\n",
      "  (0, 2224)\t0.413103377943378\n",
      "  (0, 3811)\t0.34780165336891333\n",
      "  (0, 2329)\t0.38783870336935383\n",
      "  (1, 4080)\t0.18880584110891163\n",
      "  (1, 3185)\t0.29694482957694585\n",
      "  (1, 3325)\t0.31610586766078863\n",
      "  (1, 2957)\t0.3398297002864083\n",
      "  (1, 2746)\t0.3398297002864083\n",
      "  (1, 918)\t0.22871581159877646\n",
      "  (1, 1839)\t0.2784903590561455\n",
      "  (1, 2758)\t0.3226407885943799\n",
      "  (1, 2956)\t0.33036995955537024\n",
      "  (1, 1991)\t0.33036995955537024\n",
      "  (1, 3046)\t0.2503712792613518\n",
      "  (1, 3811)\t0.17419952275504033\n",
      "  (2, 407)\t0.509272536051008\n",
      "  (2, 3156)\t0.4107239318312698\n",
      "  (2, 2404)\t0.45287711070606745\n",
      "  (2, 6601)\t0.6056811524587518\n",
      "  (3, 2870)\t0.5864269879324768\n",
      "  (3, 7414)\t0.8100020912469564\n",
      "  (4, 50)\t0.23633754072626942\n",
      "  (4, 5497)\t0.15743785051118356\n",
      "  :\t:\n",
      "  (4454, 4602)\t0.2669765732445391\n",
      "  (4454, 3142)\t0.32014451677763156\n",
      "  (4455, 2247)\t0.37052851863170466\n",
      "  (4455, 2469)\t0.35441545511837946\n",
      "  (4455, 5646)\t0.33545678464631296\n",
      "  (4455, 6810)\t0.29731757715898277\n",
      "  (4455, 6091)\t0.23103841516927642\n",
      "  (4455, 7113)\t0.30536590342067704\n",
      "  (4455, 3872)\t0.3108911491788658\n",
      "  (4455, 4715)\t0.30714144758811196\n",
      "  (4455, 6916)\t0.19636985317119715\n",
      "  (4455, 3922)\t0.31287563163368587\n",
      "  (4455, 4456)\t0.24920025316220423\n",
      "  (4456, 141)\t0.292943737785358\n",
      "  (4456, 647)\t0.30133182431707617\n",
      "  (4456, 6311)\t0.30133182431707617\n",
      "  (4456, 5569)\t0.4619395404299172\n",
      "  (4456, 6028)\t0.21034888000987115\n",
      "  (4456, 7154)\t0.24083218452280053\n",
      "  (4456, 7150)\t0.3677554681447669\n",
      "  (4456, 6249)\t0.17573831794959716\n",
      "  (4456, 6307)\t0.2752760476857975\n",
      "  (4456, 334)\t0.2220077711654938\n",
      "  (4456, 5778)\t0.16243064490100795\n",
      "  (4456, 2870)\t0.31523196273113385\n"
     ]
    }
   ],
   "source": [
    "print(x_train_features)"
   ]
  },
  {
   "cell_type": "code",
   "execution_count": 26,
   "id": "da3ef18d",
   "metadata": {},
   "outputs": [
    {
     "name": "stdout",
     "output_type": "stream",
     "text": [
      "  (0, 7271)\t0.1940327008179069\n",
      "  (0, 6920)\t0.20571591693537986\n",
      "  (0, 5373)\t0.2365698724638063\n",
      "  (0, 5213)\t0.1988547357502182\n",
      "  (0, 4386)\t0.18353336340308998\n",
      "  (0, 1549)\t0.2646498848307188\n",
      "  (0, 1405)\t0.3176863938914351\n",
      "  (0, 1361)\t0.25132445289897426\n",
      "  (0, 1082)\t0.2451068436245027\n",
      "  (0, 1041)\t0.28016206931555726\n",
      "  (0, 405)\t0.2381316303003606\n",
      "  (0, 306)\t0.23975986557206702\n",
      "  (0, 20)\t0.30668032384591537\n",
      "  (0, 14)\t0.26797874471323896\n",
      "  (0, 9)\t0.2852706805264544\n",
      "  (0, 1)\t0.2381316303003606\n",
      "  (1, 7368)\t0.29957800964520975\n",
      "  (1, 6732)\t0.42473488678029325\n",
      "  (1, 6588)\t0.3298937975962767\n",
      "  (1, 6507)\t0.26731535902873493\n",
      "  (1, 6214)\t0.3621564482127515\n",
      "  (1, 4729)\t0.22965776503163893\n",
      "  (1, 4418)\t0.3457696891316818\n",
      "  (1, 3491)\t0.496093956101028\n",
      "  (2, 7205)\t0.22341717215670331\n",
      "  :\t:\n",
      "  (1110, 3167)\t0.5718357066163949\n",
      "  (1111, 7353)\t0.4991205841293424\n",
      "  (1111, 6787)\t0.40050175714278885\n",
      "  (1111, 6033)\t0.4714849709283488\n",
      "  (1111, 3227)\t0.44384935772735523\n",
      "  (1111, 2440)\t0.4137350055985486\n",
      "  (1112, 7071)\t0.33558524648843113\n",
      "  (1112, 6777)\t0.32853717524096393\n",
      "  (1112, 6297)\t0.3056896872268727\n",
      "  (1112, 5778)\t0.22807428098549426\n",
      "  (1112, 5695)\t0.3381604952481646\n",
      "  (1112, 5056)\t0.2559183043595413\n",
      "  (1112, 4170)\t0.3307835623173863\n",
      "  (1112, 2329)\t0.241856898377491\n",
      "  (1112, 1683)\t0.4017087436272034\n",
      "  (1112, 1109)\t0.35334496762883244\n",
      "  (1113, 4080)\t0.3045947361955407\n",
      "  (1113, 4038)\t0.37023520529413706\n",
      "  (1113, 3811)\t0.28103080586555096\n",
      "  (1113, 3281)\t0.33232508601719535\n",
      "  (1113, 3113)\t0.33840833425155675\n",
      "  (1113, 2852)\t0.5956422931588335\n",
      "  (1113, 2224)\t0.3337959267435311\n",
      "  (1114, 4557)\t0.5196253874825217\n",
      "  (1114, 4033)\t0.8543942045002639\n"
     ]
    }
   ],
   "source": [
    "print(x_test_features)"
   ]
  },
  {
   "cell_type": "markdown",
   "id": "d2bca95d",
   "metadata": {},
   "source": [
    "## training the model "
   ]
  },
  {
   "cell_type": "code",
   "execution_count": 27,
   "id": "f6aa1339",
   "metadata": {},
   "outputs": [],
   "source": [
    "##logistic regression \n",
    "model = LogisticRegression()"
   ]
  },
  {
   "cell_type": "code",
   "execution_count": 28,
   "id": "54daf982",
   "metadata": {},
   "outputs": [
    {
     "data": {
      "text/plain": [
       "LogisticRegression()"
      ]
     },
     "execution_count": 28,
     "metadata": {},
     "output_type": "execute_result"
    }
   ],
   "source": [
    "model.fit(x_train_features, y_train)"
   ]
  },
  {
   "cell_type": "markdown",
   "id": "841c38f6",
   "metadata": {},
   "source": [
    "##  evaluating the trained model "
   ]
  },
  {
   "cell_type": "code",
   "execution_count": 29,
   "id": "2787c033",
   "metadata": {},
   "outputs": [],
   "source": [
    "prediction_on_training_data = model.predict(x_train_features)"
   ]
  },
  {
   "cell_type": "code",
   "execution_count": 30,
   "id": "4c0f14f2",
   "metadata": {},
   "outputs": [],
   "source": [
    "accuracy_on_training_data = accuracy_score(y_train, prediction_on_training_data)"
   ]
  },
  {
   "cell_type": "code",
   "execution_count": 31,
   "id": "8cd3c0aa",
   "metadata": {},
   "outputs": [
    {
     "name": "stdout",
     "output_type": "stream",
     "text": [
      "0.9670181736594121\n"
     ]
    }
   ],
   "source": [
    "print(accuracy_on_training_data)"
   ]
  },
  {
   "cell_type": "code",
   "execution_count": 33,
   "id": "1e626271",
   "metadata": {},
   "outputs": [],
   "source": [
    "prediction_on_test_data = model.predict(x_test_features)"
   ]
  },
  {
   "cell_type": "markdown",
   "id": "94a0e2b8",
   "metadata": {},
   "source": [
    "## building a predictive system"
   ]
  },
  {
   "cell_type": "code",
   "execution_count": 34,
   "id": "b9ccc053",
   "metadata": {},
   "outputs": [],
   "source": [
    "input_mail = [\"I've been searching for the right words to thank you for this breather. I promise i wont take your help for granted and will fulfil my promise. You have been wonderful and a blessing at all times\"]"
   ]
  },
  {
   "cell_type": "code",
   "execution_count": 35,
   "id": "c44cd1df",
   "metadata": {},
   "outputs": [],
   "source": [
    "## convert text to features \n",
    "input_data_features  = feature_extraction.transform(input_mail )"
   ]
  },
  {
   "cell_type": "code",
   "execution_count": 37,
   "id": "b4eca5fa",
   "metadata": {},
   "outputs": [
    {
     "name": "stdout",
     "output_type": "stream",
     "text": [
      "[1]\n"
     ]
    }
   ],
   "source": [
    "## making prediction\n",
    "prediction = model.predict(input_data_features )\n",
    "print(prediction)"
   ]
  },
  {
   "cell_type": "code",
   "execution_count": 38,
   "id": "c88f23f0",
   "metadata": {},
   "outputs": [
    {
     "name": "stdout",
     "output_type": "stream",
     "text": [
      "ham mail\n"
     ]
    }
   ],
   "source": [
    "if(prediction[0]==1):\n",
    "    print('ham mail')\n",
    "else:\n",
    "        print('spam mail')"
   ]
  },
  {
   "cell_type": "code",
   "execution_count": null,
   "id": "6996676a",
   "metadata": {},
   "outputs": [],
   "source": []
  }
 ],
 "metadata": {
  "kernelspec": {
   "display_name": "Python 3 (ipykernel)",
   "language": "python",
   "name": "python3"
  },
  "language_info": {
   "codemirror_mode": {
    "name": "ipython",
    "version": 3
   },
   "file_extension": ".py",
   "mimetype": "text/x-python",
   "name": "python",
   "nbconvert_exporter": "python",
   "pygments_lexer": "ipython3",
   "version": "3.9.7"
  }
 },
 "nbformat": 4,
 "nbformat_minor": 5
}
